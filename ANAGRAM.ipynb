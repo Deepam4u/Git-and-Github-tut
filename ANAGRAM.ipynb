{
  "nbformat": 4,
  "nbformat_minor": 0,
  "metadata": {
    "colab": {
      "name": "ANAGRAM.ipynb",
      "provenance": [],
      "authorship_tag": "ABX9TyNXrKKovItPx3eorS/E0gf5",
      "include_colab_link": true
    },
    "kernelspec": {
      "display_name": "Python 3",
      "name": "python3"
    },
    "language_info": {
      "name": "python"
    }
  },
  "cells": [
    {
      "cell_type": "markdown",
      "metadata": {
        "id": "view-in-github",
        "colab_type": "text"
      },
      "source": [
        "<a href=\"https://colab.research.google.com/github/Deepam4u/Git-and-Github-tut/blob/master/ANAGRAM.ipynb\" target=\"_parent\"><img src=\"https://colab.research.google.com/assets/colab-badge.svg\" alt=\"Open In Colab\"/></a>"
      ]
    },
    {
      "cell_type": "code",
      "metadata": {
        "colab": {
          "base_uri": "https://localhost:8080/"
        },
        "id": "PGSMnytZvind",
        "outputId": "9dd7294a-e424-4587-9fb8-dd1103adcf4b"
      },
      "source": [
        "def is_anagram(s, s1):\n",
        "  if len(s)!= len(s1):\n",
        "    return False\n",
        "\n",
        "  else :\n",
        "    for i, j in zip(s,s1):\n",
        "      if 1!=j:\n",
        "        return False\n",
        "      return True\n",
        "\n",
        "s= \"CIDER\"\n",
        "s1= \"CRIED\"\n",
        "s= sorted(s.lower())\n",
        "s1= sorted(s1.lower())\n",
        "res= is_anagram (s, s1)\n",
        "if res == True:\n",
        "  print(\"Anagram\")\n",
        "else:\n",
        "  print(\"Not Anagram\")"
      ],
      "execution_count": 17,
      "outputs": [
        {
          "output_type": "stream",
          "text": [
            "Not Anagram\n"
          ],
          "name": "stdout"
        }
      ]
    }
  ]
}